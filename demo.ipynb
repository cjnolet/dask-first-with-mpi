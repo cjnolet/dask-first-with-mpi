{
 "cells": [
  {
   "cell_type": "code",
   "execution_count": 1,
   "metadata": {},
   "outputs": [],
   "source": [
    "try:\n",
    "    import inotify\n",
    "except ImportError as e:\n",
    "    !pip install inotify"
   ]
  },
  {
   "cell_type": "code",
   "execution_count": 2,
   "metadata": {},
   "outputs": [],
   "source": [
    "from dask.distributed import Client\n",
    "import subprocess as subp\n",
    "import os\n",
    "import dask"
   ]
  },
  {
   "cell_type": "code",
   "execution_count": 3,
   "metadata": {},
   "outputs": [],
   "source": [
    "import inotify.adapters\n",
    "\n",
    "def create_ompi_server(uri_file):\n",
    "\n",
    "    cmd = [\"ompi-server\", \"--no-daemonize\",\"-r\", uri_file]\n",
    "    cmdStr = \"exec \" + \" \".join(cmd)\n",
    "    \n",
    "    i = inotify.adapters.Inotify()\n",
    "    \n",
    "    with open(uri_file, 'w') as f:\n",
    "        pass\n",
    "    \n",
    "    \n",
    "    i.add_watch(uri_file)\n",
    "\n",
    "    proc = subp.Popen(cmdStr, shell=True)\n",
    "\n",
    "    for event in i.event_gen(yield_nones=False):\n",
    "        (_, type_names, path, filename) = event\n",
    "        if \"IN_CLOSE_WRITE\" in type_names:\n",
    "            break\n",
    "    \n",
    "    \n",
    "    i.remove_watch(uri_file)\n",
    "\n",
    "    \n",
    "    mpiServer = proc\n",
    "    import time\n",
    "    with open(uri_file, \"r\") as fp:\n",
    "        mpiServerUri = fp.read().rstrip()\n",
    "        \n",
    "    return (mpiServer, mpiServerUri)"
   ]
  },
  {
   "cell_type": "code",
   "execution_count": 4,
   "metadata": {},
   "outputs": [],
   "source": [
    "uriFile = \"ompi.server.uri\"\n",
    "\n",
    "mpiServer, mpiServerUri = create_ompi_server(uriFile)\n",
    "os.environ[\"OMPI_MCA_pmix_server_uri\"] = mpiServerUri"
   ]
  },
  {
   "cell_type": "code",
   "execution_count": 5,
   "metadata": {},
   "outputs": [],
   "source": [
    "from dask_cuda import LocalCUDACluster\n",
    "cluster = LocalCUDACluster()"
   ]
  },
  {
   "cell_type": "code",
   "execution_count": 6,
   "metadata": {},
   "outputs": [
    {
     "data": {
      "text/html": [
       "<table style=\"border: 2px solid white;\">\n",
       "<tr>\n",
       "<td style=\"vertical-align: top; border: 0px solid white\">\n",
       "<h3>Client</h3>\n",
       "<ul>\n",
       "  <li><b>Scheduler: </b>tcp://127.0.0.1:39731\n",
       "  <li><b>Dashboard: </b><a href='http://127.0.0.1:8787/status' target='_blank'>http://127.0.0.1:8787/status</a>\n",
       "</ul>\n",
       "</td>\n",
       "<td style=\"vertical-align: top; border: 0px solid white\">\n",
       "<h3>Cluster</h3>\n",
       "<ul>\n",
       "  <li><b>Workers: </b>2</li>\n",
       "  <li><b>Cores: </b>2</li>\n",
       "  <li><b>Memory: </b>50.39 GB</li>\n",
       "</ul>\n",
       "</td>\n",
       "</tr>\n",
       "</table>"
      ],
      "text/plain": [
       "<Client: scheduler='tcp://127.0.0.1:39731' processes=2 cores=2>"
      ]
     },
     "execution_count": 6,
     "metadata": {},
     "output_type": "execute_result"
    }
   ],
   "source": [
    "c = Client(cluster)\n",
    "c"
   ]
  },
  {
   "cell_type": "code",
   "execution_count": 7,
   "metadata": {},
   "outputs": [],
   "source": [
    "import hello_mpi"
   ]
  },
  {
   "cell_type": "code",
   "execution_count": 8,
   "metadata": {},
   "outputs": [],
   "source": [
    "def parse_host_port(address):\n",
    "    if '://' in address:\n",
    "        address = address.rsplit('://', 1)[1]\n",
    "    host, port = address.split(':')\n",
    "    port = int(port)\n",
    "    return host, port"
   ]
  },
  {
   "cell_type": "code",
   "execution_count": 9,
   "metadata": {},
   "outputs": [],
   "source": [
    "def run(workerId, nWorkers, ompiServerUri):\n",
    "    if ompiServerUri is None:\n",
    "        raise Exception(\"ompiServerUri is mandatory!\")\n",
    "    os.environ[\"OMPI_MCA_pmix_server_uri\"] = ompiServerUri\n",
    "    w = dask.distributed.get_worker()\n",
    "    print(\"Hello World! from ip=%s worker=%s/%d uri=%s\" % \\\n",
    "          (w.address, w.name, nWorkers, ompiServerUri))\n",
    "    print(\"Worker=%s finished\" % w.name)\n",
    "    \n",
    "    a = hello_mpi.World(workerId, nWorkers)\n",
    "    a.init()\n",
    "\n",
    "    return a"
   ]
  },
  {
   "cell_type": "code",
   "execution_count": 10,
   "metadata": {},
   "outputs": [],
   "source": [
    "workers = list(zip(map(lambda x: parse_host_port(x), c.has_what().keys()), range(len(c.has_what().keys()))))\n",
    "f = [c.submit(run, idx, 2, mpiServerUri, workers=[worker]) for worker, idx in workers]\n"
   ]
  },
  {
   "cell_type": "code",
   "execution_count": 11,
   "metadata": {},
   "outputs": [],
   "source": [
    "import random\n",
    "\n",
    "def get_rank(world, r):\n",
    "    return world.rank()\n",
    "\n",
    "def finalize(world):\n",
    "    world.finalize()"
   ]
  },
  {
   "cell_type": "code",
   "execution_count": 12,
   "metadata": {},
   "outputs": [
    {
     "name": "stdout",
     "output_type": "stream",
     "text": [
      "0\n",
      "1\n"
     ]
    }
   ],
   "source": [
    "ranks = [c.submit(get_rank, a, random.random()) for a in f]\n",
    "for i in ranks:\n",
    "    print(str(i.result()))"
   ]
  },
  {
   "cell_type": "code",
   "execution_count": 13,
   "metadata": {},
   "outputs": [
    {
     "data": {
      "text/plain": [
       "[<Future: status: pending, key: finalize-29b8800f27d460d460363a125011ab3d>,\n",
       " <Future: status: pending, key: finalize-368dc52407099ed523252fd85db31617>]"
      ]
     },
     "execution_count": 13,
     "metadata": {},
     "output_type": "execute_result"
    }
   ],
   "source": [
    "[c.submit(finalize, a) for a in f]"
   ]
  },
  {
   "cell_type": "code",
   "execution_count": 14,
   "metadata": {},
   "outputs": [],
   "source": [
    "mpiServer.kill()\n",
    "os.remove(uriFile)"
   ]
  },
  {
   "cell_type": "code",
   "execution_count": null,
   "metadata": {},
   "outputs": [],
   "source": []
  }
 ],
 "metadata": {
  "kernelspec": {
   "display_name": "Python (cuml4)",
   "language": "python",
   "name": "python3"
  },
  "language_info": {
   "codemirror_mode": {
    "name": "ipython",
    "version": 3
   },
   "file_extension": ".py",
   "mimetype": "text/x-python",
   "name": "python",
   "nbconvert_exporter": "python",
   "pygments_lexer": "ipython3",
   "version": "3.7.3"
  }
 },
 "nbformat": 4,
 "nbformat_minor": 2
}
